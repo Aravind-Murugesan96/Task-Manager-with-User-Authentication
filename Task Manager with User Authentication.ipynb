{
 "cells": [
  {
   "cell_type": "markdown",
   "id": "1e9b57fb-96a9-4c73-bfa8-062c50a68b24",
   "metadata": {},
   "source": [
    "Objectives: \n",
    "1. Design and implement a user authentication system (login and registration)\n",
    "2. Create a task management system that allows users to: Add, view, mark as completed, and delete tasks \n",
    "3. Use file handling to store user credentials and tasks persistently \n",
    "4. Create an interactive menu-driven interface to manage tasks."
   ]
  },
  {
   "cell_type": "markdown",
   "id": "78c40c39-af44-46e0-8093-a1f18bcc6777",
   "metadata": {},
   "source": [
    "1.\tUser Authentication:"
   ]
  },
  {
   "cell_type": "markdown",
   "id": "2a1f3c9e-d1d9-4a75-8755-aaffb72ce091",
   "metadata": {},
   "source": [
    "Registration:  \n",
    "•\tCreate a function to prompt the user to enter a username and password   \n",
    "•\tEnsure that the username is unique, and hash the password for security before storing it in a file \n"
   ]
  },
  {
   "cell_type": "code",
   "execution_count": 33,
   "id": "085dc407-2b1a-47ce-9068-4a17e53d6854",
   "metadata": {},
   "outputs": [],
   "source": [
    "import hashlib\n",
    "\n",
    "def register():\n",
    "    username = input(\"Enter a username: \")\n",
    "    password = input(\"Enter a password: \")\n",
    "\n",
    "    hashed_password = hashlib.sha256(password.encode()).hexdigest()\n",
    "\n",
    "    with open('users.txt', 'a') as file:\n",
    "        file.write(f\"{username},{hashed_password}\\n\")\n",
    "    print(\"Registration successful!\")"
   ]
  },
  {
   "cell_type": "markdown",
   "id": "ff445af6-826f-46e7-824b-3e76d7ecf083",
   "metadata": {},
   "source": [
    "Login:  \n",
    "•\tCreate a function to prompt the user for their username and password, validate the credentials by comparing them with the stored data, and grant access to the task manager upon successful login \n"
   ]
  },
  {
   "cell_type": "code",
   "execution_count": 34,
   "id": "66a16f88-573e-45ac-8e80-e8c87d2e4a6f",
   "metadata": {},
   "outputs": [],
   "source": [
    "def login():\n",
    "    username = input(\"Enter your username: \")\n",
    "    password = input(\"Enter your password: \")\n",
    "\n",
    "    hashed_password = hashlib.sha256(password.encode()).hexdigest()\n",
    "\n",
    "    with open('users.txt', 'r') as file:\n",
    "        for line in file:\n",
    "            stored_username, stored_password = line.strip().split(',')\n",
    "            if stored_username == username and stored_password == hashed_password:\n",
    "                print(\"Login successful!\")\n",
    "                return True, username\n",
    "    print(\"Invalid credentials, please try again.\")\n",
    "    return False, None\n"
   ]
  },
  {
   "cell_type": "markdown",
   "id": "275dbc5b-080a-42a1-8291-66cb6973a696",
   "metadata": {},
   "source": [
    "2. Add a Task   \n",
    "•\tCreate a function that prompts the user for a task description. Assign a unique task ID and set the status to Pending    \n",
    "•\tStore the task in a file, and confirm that the task was added \n"
   ]
  },
  {
   "cell_type": "code",
   "execution_count": 35,
   "id": "37fee53d-3e49-4121-9f28-22c4876536be",
   "metadata": {},
   "outputs": [],
   "source": [
    "def add_task(username):\n",
    "    task = input(\"Enter the task description: \")\n",
    "    with open(f'tasks_{username}.txt', 'a') as file:\n",
    "        task_id = sum(1 for _ in open(f'tasks_{username}.txt')) + 1\n",
    "        file.write(f\"{task_id},{task},Pending\\n\")\n",
    "    print(\"Task added successfully.\")"
   ]
  },
  {
   "cell_type": "markdown",
   "id": "34c659b9-1c1f-454b-ae49-8489ff90fc51",
   "metadata": {},
   "source": [
    "3.\tView Tasks:   \n",
    "•\tCreate a function to retrieve and display all tasks for the logged-in user  \n",
    "•\tEach task should show the task ID, description, and status (Pending or Completed)"
   ]
  },
  {
   "cell_type": "code",
   "execution_count": 36,
   "id": "14586b36-a01f-42c1-8dea-0fce67536393",
   "metadata": {},
   "outputs": [],
   "source": [
    "import os\n",
    "\n",
    "def view_tasks(username):\n",
    "    print(\"\\nYour Tasks:\")\n",
    "    filename = f'tasks_{username}.txt'\n",
    "    if not os.path.exists(filename):\n",
    "        print(\"No tasks found.\")\n",
    "        return\n",
    "\n",
    "    with open(filename, 'r') as file:\n",
    "        for line in file:\n",
    "            task_id, task, status = line.strip().split(',')\n",
    "            status_text = \"Completed\" if status.strip() == 'True' else \"Pending\"\n",
    "            print(f\"{task_id}. {task} [{status_text}]\")\n",
    "\n"
   ]
  },
  {
   "cell_type": "markdown",
   "id": "cc733019-f9e8-484c-a048-121afe4c5d03",
   "metadata": {},
   "source": [
    "4.\tMark a Task as Completed    \n",
    "• Create a function that allows the user to select a task by its ID and update its status to Completed "
   ]
  },
  {
   "cell_type": "code",
   "execution_count": 37,
   "id": "4b8fcd03-f8e8-49e8-9087-253a2243c562",
   "metadata": {},
   "outputs": [],
   "source": [
    "def mark_task_completed(username):\n",
    "    task_id = input(\"Enter the task ID to mark as completed: \")\n",
    "    tasks = []\n",
    "    with open(f'tasks_{username}.txt', 'r') as file:\n",
    "        for line in file:\n",
    "            task_id_in_file, task, status = line.strip().split(',')\n",
    "            if task_id_in_file == task_id:\n",
    "                status = \"Completed\"\n",
    "            tasks.append(f\"{task_id_in_file},{task},{status}\")\n",
    "\n",
    "    with open(f'tasks_{username}.txt', 'w') as file:\n",
    "        for task in tasks:\n",
    "            file.write(task + '\\n')\n",
    "    print(\"Task marked as completed.\")"
   ]
  },
  {
   "cell_type": "markdown",
   "id": "9f801305-c93d-4294-9caa-2deb667dcbb5",
   "metadata": {},
   "source": [
    "5.\tDelete a Task   \n",
    "•\tCreate a function that allows the user to select a task by its ID and delete it from their task list \n"
   ]
  },
  {
   "cell_type": "code",
   "execution_count": 38,
   "id": "59eca802-c150-4602-bc11-12b50d7cb8b2",
   "metadata": {},
   "outputs": [],
   "source": [
    "def delete_task(username):\n",
    "    task_id = input(\"Enter the task ID to delete: \")\n",
    "    tasks = []\n",
    "    with open(f'tasks_{username}.txt', 'r') as file:\n",
    "        for line in file:\n",
    "            task_id_in_file, task, status = line.strip().split(',')\n",
    "            if task_id_in_file != task_id:\n",
    "                tasks.append(f\"{task_id_in_file},{task},{status}\")\n",
    "    with open(f'tasks_{username}.txt', 'w') as file:\n",
    "        for task in tasks:\n",
    "            file.write(task + '\\n')\n",
    "    print(\"Task deleted successfully.\")"
   ]
  },
  {
   "cell_type": "markdown",
   "id": "75d05dbb-4812-4a0d-b568-f32171b7601a",
   "metadata": {},
   "source": [
    "6. create interactive menu"
   ]
  },
  {
   "cell_type": "code",
   "execution_count": 39,
   "id": "40576009-2a4a-49d7-9fac-bce153dcc159",
   "metadata": {},
   "outputs": [],
   "source": [
    "def task_manager_menu(username):\n",
    "    while True:\n",
    "        print(\"\\n1. View Tasks\")\n",
    "        print(\"2. Add Task\")\n",
    "        print(\"3. Mark Task as Completed\")\n",
    "        print(\"4. Delete Task\")\n",
    "        print(\"5. Logout\")\n",
    "        choice = input(\"Enter your choice: \")\n",
    "        if choice == '1':\n",
    "            view_tasks(username)\n",
    "        elif choice == '2':\n",
    "            add_task(username)\n",
    "        elif choice == '3':\n",
    "            mark_task_completed(username)\n",
    "        elif choice == '4':\n",
    "            delete_task(username)\n",
    "        elif choice == '5':\n",
    "            print(\"Logging out...\")\n",
    "            break\n",
    "        else:\n",
    "            print(\"Invalid choice, please try again.\")"
   ]
  },
  {
   "cell_type": "code",
   "execution_count": null,
   "id": "bca2a956-010e-4523-a159-32967de12d08",
   "metadata": {},
   "outputs": [
    {
     "name": "stdout",
     "output_type": "stream",
     "text": [
      "\n",
      "1. Register\n",
      "2. Login\n",
      "3. Exit\n"
     ]
    }
   ],
   "source": [
    "def main():\n",
    "    while True:\n",
    "        print(\"\\n1. Register\")\n",
    "        print(\"2. Login\")\n",
    "        print(\"3. Exit\")\n",
    "        choice = input(\"Enter your choice: \")\n",
    "        if choice == '1':\n",
    "            register()\n",
    "        elif choice == '2':\n",
    "            logged_in, username = login()\n",
    "            if logged_in:\n",
    "                task_manager_menu(username)\n",
    "        elif choice == '3':\n",
    "            print(\"Exiting the program.\")\n",
    "            break\n",
    "        else:\n",
    "            print(\"Invalid choice, please try again.\")\n",
    "\n",
    "main()\n"
   ]
  },
  {
   "cell_type": "code",
   "execution_count": null,
   "id": "7e17a664-1d0c-4939-848d-a8b489501ddf",
   "metadata": {},
   "outputs": [],
   "source": []
  }
 ],
 "metadata": {
  "kernelspec": {
   "display_name": "Python [conda env:base] *",
   "language": "python",
   "name": "conda-base-py"
  },
  "language_info": {
   "codemirror_mode": {
    "name": "ipython",
    "version": 3
   },
   "file_extension": ".py",
   "mimetype": "text/x-python",
   "name": "python",
   "nbconvert_exporter": "python",
   "pygments_lexer": "ipython3",
   "version": "3.12.7"
  }
 },
 "nbformat": 4,
 "nbformat_minor": 5
}
